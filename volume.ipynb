{
 "cells": [
  {
   "cell_type": "code",
   "execution_count": null,
   "id": "a1ba6281-5074-44c2-8db6-1b4b46a03b58",
   "metadata": {},
   "outputs": [],
   "source": [
    "import pyvista as pv\n",
    "from pyvista import examples\n",
    "pv.set_jupyter_backend('server')\n",
    "pv.Report()\n"
   ]
  },
  {
   "cell_type": "code",
   "execution_count": null,
   "id": "d74be856-3fc7-4a82-aa36-a906bce59d93",
   "metadata": {},
   "outputs": [],
   "source": [
    "vol = examples.download_head_2()\n",
    "\n",
    "pl = pv.Plotter()\n",
    "pl.add_volume(vol)\n",
    "pl.show()\n"
   ]
  },
  {
   "cell_type": "code",
   "execution_count": null,
   "id": "c1ea8c22-b159-4328-8146-f54b9a949202",
   "metadata": {},
   "outputs": [],
   "source": []
  }
 ],
 "metadata": {
  "kernelspec": {
   "display_name": "Python 3 (ipykernel)",
   "language": "python",
   "name": "python3"
  },
  "language_info": {
   "codemirror_mode": {
    "name": "ipython",
    "version": 3
   },
   "file_extension": ".py",
   "mimetype": "text/x-python",
   "name": "python",
   "nbconvert_exporter": "python",
   "pygments_lexer": "ipython3",
   "version": "3.11.6"
  }
 },
 "nbformat": 4,
 "nbformat_minor": 5
}
